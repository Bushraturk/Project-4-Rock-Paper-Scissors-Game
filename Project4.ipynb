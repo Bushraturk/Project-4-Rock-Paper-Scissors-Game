{
  "nbformat": 4,
  "nbformat_minor": 0,
  "metadata": {
    "colab": {
      "provenance": [],
      "authorship_tag": "ABX9TyPfvzSzKOIbs8AwPivdo2js",
      "include_colab_link": true
    },
    "kernelspec": {
      "name": "python3",
      "display_name": "Python 3"
    },
    "language_info": {
      "name": "python"
    }
  },
  "cells": [
    {
      "cell_type": "markdown",
      "metadata": {
        "id": "view-in-github",
        "colab_type": "text"
      },
      "source": [
        "<a href=\"https://colab.research.google.com/github/Bushraturk/Project-4-Rock-Paper-Scissors-Game/blob/main/Project4.ipynb\" target=\"_parent\"><img src=\"https://colab.research.google.com/assets/colab-badge.svg\" alt=\"Open In Colab\"/></a>"
      ]
    },
    {
      "cell_type": "markdown",
      "source": [
        "# Project 4 Rock , Paper , Scissors Game"
      ],
      "metadata": {
        "id": "389IcihbRmjs"
      }
    },
    {
      "cell_type": "code",
      "source": [
        "import random\n",
        "# game choices\n",
        "choices = [\"rock\", \"paper\", \"scissors\"]\n",
        "# player choice\n",
        "player_choice = input(\"Enter your choice (rock, paper, scissors): \").lower()\n",
        "# computer choice\n",
        "computer_choice = random.choice(choices)\n",
        "\n",
        "# winner decision\n",
        "if player_choice == computer_choice:\n",
        "    print(f\"{player_choice} It's a tie!\")\n",
        "elif player_choice == \"rock\" and computer_choice == \"scissors\":\n",
        "  print(f\"Player Wins! {player_choice} beats {computer_choice}.\")\n",
        "\n",
        "elif player_choice == \"paper\" and computer_choice == \"rock\":\n",
        "    print(f\"Player Wins! {player_choice} beats {computer_choice}.\")\n",
        "\n",
        "elif player_choice == \"scissors\" and computer_choice == \"paper\":\n",
        "    print(f\"Player Wins! {player_choice} beats {computer_choice}.\")\n",
        "\n",
        "else:\n",
        "  print(f\"Computer Wins! {computer_choice} beats {player_choice}.\")\n",
        "\n",
        "\n",
        "\n"
      ],
      "metadata": {
        "colab": {
          "base_uri": "https://localhost:8080/"
        },
        "id": "S2kSDlhYR5cF",
        "outputId": "821918ed-de73-4317-b374-270dd9ac3e84"
      },
      "execution_count": null,
      "outputs": [
        {
          "output_type": "stream",
          "name": "stdout",
          "text": [
            "Enter your choice (rock, paper, scissors): paper\n",
            "Computer Wins! scissors beats paper.\n"
          ]
        }
      ]
    }
  ]
}